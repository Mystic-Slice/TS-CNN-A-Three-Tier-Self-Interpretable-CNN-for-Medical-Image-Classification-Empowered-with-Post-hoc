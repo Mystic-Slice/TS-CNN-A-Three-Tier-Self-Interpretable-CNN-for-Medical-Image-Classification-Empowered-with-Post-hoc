{
 "cells": [
  {
   "cell_type": "markdown",
   "metadata": {
    "id": "OV5ldVqh6vSw"
   },
   "source": [
    "# Data Prep"
   ]
  },
  {
   "cell_type": "code",
   "execution_count": 1,
   "metadata": {
    "id": "KF3yU_xQN7L3"
   },
   "outputs": [
    {
     "name": "stderr",
     "output_type": "stream",
     "text": [
      "<frozen importlib._bootstrap>:241: RuntimeWarning: scipy._lib.messagestream.MessageStream size changed, may indicate binary incompatibility. Expected 56 from C header, got 64 from PyObject\n"
     ]
    }
   ],
   "source": [
    "import numpy as np \n",
    "import pandas as pd \n",
    "import tensorflow as tf\n",
    "tf.config.run_functions_eagerly(True)\n",
    "from matplotlib import pyplot as plt\n",
    "from tensorflow.keras.preprocessing.image import ImageDataGenerator\n",
    "from skimage import exposure\n",
    "from PIL import Image\n",
    "import skimage.measure\n",
    "import os\n",
    "import cv2"
   ]
  },
  {
   "cell_type": "code",
   "execution_count": 2,
   "metadata": {},
   "outputs": [],
   "source": [
    "train_df = pd.read_csv(\"train.csv\")\n",
    "val_df = pd.read_csv(\"test.csv\")"
   ]
  },
  {
   "cell_type": "code",
   "execution_count": 3,
   "metadata": {
    "id": "hUGmp8EvERyY"
   },
   "outputs": [],
   "source": [
    "BATCH_SIZE = 4\n",
    "IMG_SIZE = 224\n",
    "NUM_CLASSES = train_df[\"diagnostic\"].nunique()"
   ]
  },
  {
   "cell_type": "code",
   "execution_count": 4,
   "metadata": {
    "colab": {
     "base_uri": "https://localhost:8080/"
    },
    "id": "eT3O490vDn0K",
    "outputId": "909dc829-7151-4df7-a7ab-a32493f528bc"
   },
   "outputs": [
    {
     "name": "stdout",
     "output_type": "stream",
     "text": [
      "Found 1838 validated image filenames belonging to 6 classes.\n",
      "Found 460 validated image filenames belonging to 6 classes.\n"
     ]
    }
   ],
   "source": [
    "datagen = ImageDataGenerator (\n",
    "    rescale = 1/255.,\n",
    ")\n",
    "\n",
    "training_generator = datagen.flow_from_dataframe (\n",
    "    train_df,\n",
    "    x_col = \"filename\",\n",
    "    y_col = \"diagnostic\",\n",
    "    batch_size = BATCH_SIZE,\n",
    "    target_size = ((IMG_SIZE, IMG_SIZE)),\n",
    ")\n",
    "\n",
    "val_generator = datagen.flow_from_dataframe (\n",
    "    val_df,\n",
    "    x_col = \"filename\",\n",
    "    y_col = \"diagnostic\",\n",
    "    batch_size = BATCH_SIZE,\n",
    "    target_size = ((IMG_SIZE, IMG_SIZE)),\n",
    ")"
   ]
  },
  {
   "cell_type": "code",
   "execution_count": 5,
   "metadata": {},
   "outputs": [
    {
     "data": {
      "text/plain": [
       "{0: 0.5245433789954338,\n",
       " 1: 0.4531558185404339,\n",
       " 2: 7.2936507936507935,\n",
       " 3: 1.570940170940171,\n",
       " 4: 2.002178649237473,\n",
       " 5: 1.6294326241134751}"
      ]
     },
     "execution_count": 5,
     "metadata": {},
     "output_type": "execute_result"
    }
   ],
   "source": [
    "from sklearn.utils import class_weight \n",
    "import numpy as np\n",
    "\n",
    "class_weights = class_weight.compute_class_weight(\n",
    "    class_weight = 'balanced', \n",
    "    classes = np.unique(training_generator.classes), \n",
    "    y = training_generator.classes)\n",
    "class_weights = dict(zip(np.unique(training_generator.classes), class_weights))\n",
    "class_weights"
   ]
  },
  {
   "cell_type": "code",
   "execution_count": 6,
   "metadata": {
    "id": "fpR8mDQxArKo"
   },
   "outputs": [],
   "source": [
    "classes = train_df[\"diagnostic\"].unique()"
   ]
  },
  {
   "cell_type": "markdown",
   "metadata": {
    "id": "I6aa30d3IPPP"
   },
   "source": [
    "# Saliency"
   ]
  },
  {
   "cell_type": "code",
   "execution_count": 7,
   "metadata": {},
   "outputs": [],
   "source": [
    "@tf.function\n",
    "def normalize(heatmap):\n",
    "    num = heatmap - tf.reduce_min(heatmap)\n",
    "    deno = (tf.reduce_max(heatmap) - tf.reduce_min(heatmap))\n",
    "    if deno == 0:\n",
    "        return heatmap\n",
    "    heatmap = num / deno\n",
    "    return heatmap"
   ]
  },
  {
   "cell_type": "code",
   "execution_count": 8,
   "metadata": {},
   "outputs": [],
   "source": [
    "@tf.function\n",
    "def compute_saliency_map(model, image, eps=1e-8):\n",
    "    gradModel = tf.keras.models.Model(\n",
    "        inputs=[model.inputs],\n",
    "        outputs=model.outputs\n",
    "    )\n",
    "\n",
    "    with tf.GradientTape(persistent = True) as tape:\n",
    "        input_image = tf.cast(image, tf.float32)\n",
    "        tape.watch(input_image)\n",
    "        predictions = model(input_image)\n",
    "        classid = tf.argmax(predictions[0])\n",
    "        loss = predictions[:, classid]\n",
    "\n",
    "    gradient = tape.gradient(loss, image)\n",
    "    gradient = tf.reduce_max(gradient, axis=-1)\n",
    "    heatmap = gradient.numpy()        \n",
    "\n",
    "    heatmap = tf.squeeze(heatmap)\n",
    "    heatmap = normalize(heatmap)\n",
    "    return heatmap"
   ]
  },
  {
   "cell_type": "code",
   "execution_count": 9,
   "metadata": {
    "id": "aiu_C80mEU7B"
   },
   "outputs": [],
   "source": [
    "@tf.function\n",
    "def get_last_layer_name(model):\n",
    "    for layer in reversed(model.layers):\n",
    "        if isinstance(layer, tf.keras.layers.Conv2D):\n",
    "            return layer.name\n",
    "    return []"
   ]
  },
  {
   "cell_type": "code",
   "execution_count": 10,
   "metadata": {
    "id": "cjhqCTT1IdAj"
   },
   "outputs": [],
   "source": [
    "@tf.function\n",
    "def generate_saliency_batch(imgs, global_model, threshold):\n",
    "\n",
    "    fused_heatmaps = []\n",
    "    for image in imgs:\n",
    "        heatmap = compute_saliency_map(global_model, tf.expand_dims(image, axis=0))\n",
    "        fused_heatmaps.append(heatmap)\n",
    "\n",
    "    # Generate mask from combination\n",
    "    fused_heatmaps = tf.convert_to_tensor(fused_heatmaps, tf.float32)\n",
    "    binary_masks = tf.where(fused_heatmaps > threshold, 1, 0)\n",
    "\n",
    "    # Pool the pixels to look at the neighbourhood of the bright pixel instead of just the bright pixel alone\n",
    "    pooled_bin_mask = tf.nn.max_pool2d(binary_masks[:, :, :, tf.newaxis], ksize=(30, 30), strides=(1, 1), padding=\"SAME\")[:, :, :, 0]\n",
    "\n",
    "    pool_binary_masks = tf.stack([pooled_bin_mask] * 3, axis = -1)\n",
    "    pool_binary_masks = tf.cast(pool_binary_masks, tf.float32)    \n",
    "    return tf.multiply(pool_binary_masks, imgs)"
   ]
  },
  {
   "cell_type": "code",
   "execution_count": 11,
   "metadata": {},
   "outputs": [],
   "source": [
    "@tf.function\n",
    "def generate_saliency_batch_withheat(imgs, global_model, threshold):\n",
    "\n",
    "    fused_heatmaps = []\n",
    "    for image in imgs:\n",
    "        heatmap = compute_saliency_map(global_model, tf.expand_dims(image, axis=0))\n",
    "        fused_heatmaps.append(heatmap)\n",
    "\n",
    "    # Generate mask from combination\n",
    "    fused_heatmaps = tf.convert_to_tensor(fused_heatmaps, tf.float32)\n",
    "    binary_masks = tf.where(fused_heatmaps > threshold, 1, 0)\n",
    "    \n",
    "    # Pool the pixels to look at the neighbourhood of the bright pixel instead of just the bright pixel alone\n",
    "    pooled_bin_mask = tf.nn.max_pool2d(binary_masks[:, :, :, tf.newaxis], ksize=(30, 30), strides=(1, 1), padding=\"SAME\")[:, :, :, 0]\n",
    "\n",
    "    pool_binary_masks = tf.stack([pooled_bin_mask] * 3, axis = -1)\n",
    "    pool_binary_masks = tf.cast(pool_binary_masks, tf.float32)\n",
    "    return fused_heatmaps, pool_binary_masks, tf.multiply(pool_binary_masks, imgs)"
   ]
  },
  {
   "cell_type": "markdown",
   "metadata": {
    "id": "qrTj219eMXaS"
   },
   "source": [
    "# Train Global branch - DenseNet"
   ]
  },
  {
   "cell_type": "code",
   "execution_count": 12,
   "metadata": {},
   "outputs": [],
   "source": [
    "from tensorflow.keras.applications.densenet import DenseNet121"
   ]
  },
  {
   "cell_type": "code",
   "execution_count": 13,
   "metadata": {},
   "outputs": [],
   "source": [
    "def build_base_model():\n",
    "\n",
    "    backbone_model = DenseNet121(\n",
    "        include_top=False,\n",
    "        weights=\"imagenet\",\n",
    "        input_tensor=tf.keras.layers.Input(shape=(IMG_SIZE,IMG_SIZE,3))\n",
    "    )\n",
    "\n",
    "    pooling  = tf.keras.layers.GlobalMaxPooling2D()(backbone_model.output)\n",
    "    \n",
    "    dense = tf.keras.layers.Dense(units = 1024, kernel_regularizer= tf.keras.regularizers.l2(0.0001))(pooling)\n",
    "    batch_norm = tf.keras.layers.BatchNormalization()(dense)\n",
    "    leaky_relu = tf.keras.layers.LeakyReLU()(batch_norm)\n",
    "    \n",
    "    classifier = tf.keras.layers.Dense(units = NUM_CLASSES, activation = 'softmax')(leaky_relu)\n",
    "    model = tf.keras.models.Model(inputs = backbone_model.input, outputs = classifier)\n",
    "    optimizer = tf.keras.optimizers.Adam(learning_rate=1e-4)\n",
    "    model.compile(optimizer=optimizer,loss='categorical_crossentropy', metrics = ['accuracy'])\n",
    "    \n",
    "    # Added to improve gradcam output\n",
    "    for layer in model.layers:\n",
    "        if isinstance(layer, tf.keras.layers.ZeroPadding2D):\n",
    "            continue\n",
    "        layer.padding = \"same\"\n",
    "            \n",
    "    return model"
   ]
  },
  {
   "cell_type": "code",
   "execution_count": 14,
   "metadata": {
    "id": "WkG9TRAOCXG4"
   },
   "outputs": [],
   "source": [
    "global_model = build_base_model()"
   ]
  },
  {
   "cell_type": "code",
   "execution_count": 15,
   "metadata": {
    "id": "MyukpK2XbgLl",
    "scrolled": false
   },
   "outputs": [],
   "source": [
    "global_model.load_weights(\"models_densenet_saliency/Global/160_1.021_0.691.h5\")"
   ]
  },
  {
   "cell_type": "code",
   "execution_count": null,
   "metadata": {
    "id": "j3t3ZF_iVriQ"
   },
   "outputs": [],
   "source": [
    "EPOCHS = 100"
   ]
  },
  {
   "cell_type": "code",
   "execution_count": null,
   "metadata": {
    "id": "Y0GmonP3WkYy"
   },
   "outputs": [],
   "source": [
    "earlystop = tf.keras.callbacks.EarlyStopping(patience=10)\n",
    "learning_rate_reduction = tf.keras.callbacks.ReduceLROnPlateau(monitor='val_accuracy', \n",
    "                                            patience=5, \n",
    "                                            verbose=1, \n",
    "                                            factor=0.2, \n",
    "                                            min_lr=1e-6)\n",
    "checkpoint = tf.keras.callbacks.ModelCheckpoint('models_densenet_saliency/Global/best_model.h5', monitor='val_accuracy', verbose=1, \n",
    "                             save_best_only=True, mode='max', save_weights_only = True)\n",
    "mycallbacks = [earlystop, learning_rate_reduction,checkpoint]"
   ]
  },
  {
   "cell_type": "code",
   "execution_count": null,
   "metadata": {
    "colab": {
     "base_uri": "https://localhost:8080/"
    },
    "id": "znpJlpJdMaf7",
    "outputId": "a8bd13ea-f10b-4838-9d84-95ec8c747c5f"
   },
   "outputs": [],
   "source": [
    "history = global_model.fit_generator(\n",
    "    training_generator,\n",
    "    epochs = EPOCHS,\n",
    "    validation_data = val_generator,\n",
    "    callbacks = mycallbacks,\n",
    "    class_weight=class_weights\n",
    ")"
   ]
  },
  {
   "cell_type": "code",
   "execution_count": null,
   "metadata": {},
   "outputs": [],
   "source": [
    "# Plot accuracy graph\n",
    "plt.plot(history.history['accuracy'])\n",
    "plt.plot(history.history['val_accuracy'])\n",
    "plt.title('model accuracy')\n",
    "plt.ylabel('accuracy')\n",
    "plt.xlabel('epoch')\n",
    "plt.legend(['train', 'val'], loc='upper left')\n",
    "plt.show()"
   ]
  },
  {
   "cell_type": "code",
   "execution_count": null,
   "metadata": {},
   "outputs": [],
   "source": [
    "# Plot loss graph\n",
    "plt.plot(history.history['loss'])\n",
    "plt.plot(history.history['val_loss'])\n",
    "plt.title('model loss')\n",
    "plt.ylabel('loss')\n",
    "plt.xlabel('epoch')\n",
    "plt.legend(['train', 'val'], loc='upper left')\n",
    "plt.show()"
   ]
  },
  {
   "cell_type": "code",
   "execution_count": null,
   "metadata": {},
   "outputs": [],
   "source": [
    "val_loss, val_accuracy = global_model.evaluate(val_generator)\n",
    "print(val_loss, val_accuracy)"
   ]
  },
  {
   "cell_type": "code",
   "execution_count": null,
   "metadata": {
    "id": "v5OPw6HlOh6k"
   },
   "outputs": [],
   "source": [
    "global_model.save_weights(f\"models_densenet_saliency/Global/190_{val_loss:.3f}_{val_accuracy:.3f}.h5\")"
   ]
  },
  {
   "cell_type": "markdown",
   "metadata": {},
   "source": [
    "# Build local branch"
   ]
  },
  {
   "cell_type": "code",
   "execution_count": 16,
   "metadata": {},
   "outputs": [],
   "source": [
    "local_model = build_base_model()"
   ]
  },
  {
   "cell_type": "code",
   "execution_count": 17,
   "metadata": {},
   "outputs": [],
   "source": [
    "local_model.load_weights(\"models_densenet_saliency/Global/160_1.021_0.691.h5\")"
   ]
  },
  {
   "cell_type": "markdown",
   "metadata": {
    "id": "kMx_VLppw7NX"
   },
   "source": [
    "# Visualize Saliency maps"
   ]
  },
  {
   "cell_type": "code",
   "execution_count": null,
   "metadata": {
    "id": "7V-LNe7BNrpu"
   },
   "outputs": [],
   "source": [
    "images, labels = training_generator.next()"
   ]
  },
  {
   "cell_type": "code",
   "execution_count": null,
   "metadata": {
    "id": "DeVkIQ-1Nw4F"
   },
   "outputs": [],
   "source": [
    "heatmaps, masks, out_imgs = generate_saliency_batch_withheat(images, global_model, 0.6)"
   ]
  },
  {
   "cell_type": "code",
   "execution_count": null,
   "metadata": {},
   "outputs": [],
   "source": [
    "# Images\n",
    "plt.figure(figsize=(8, 100))\n",
    "plt.imshow(np.hstack(images), cmap=\"jet\")"
   ]
  },
  {
   "cell_type": "code",
   "execution_count": null,
   "metadata": {},
   "outputs": [],
   "source": [
    "# Attention maps\n",
    "plt.figure(figsize=(8, 100))\n",
    "plt.imshow(np.hstack([normalize(img) for img in heatmaps]), cmap=\"jet\")"
   ]
  },
  {
   "cell_type": "code",
   "execution_count": null,
   "metadata": {
    "colab": {
     "base_uri": "https://localhost:8080/",
     "height": 1000
    },
    "id": "F-NvPYsuN_lD",
    "outputId": "8a077efb-835a-46d9-9db3-116443c73382"
   },
   "outputs": [],
   "source": [
    "# Masks\n",
    "plt.figure(figsize=(8, 100))\n",
    "plt.imshow(np.hstack([normalize(img) for img in masks]), cmap=\"jet\")"
   ]
  },
  {
   "cell_type": "code",
   "execution_count": null,
   "metadata": {},
   "outputs": [],
   "source": [
    "# Local input\n",
    "plt.figure(figsize=(8, 100))\n",
    "plt.imshow(np.hstack(out_imgs), cmap=\"jet\")"
   ]
  },
  {
   "cell_type": "markdown",
   "metadata": {
    "id": "pcK8AgWJU8Uv"
   },
   "source": [
    "# Train Fusion\n"
   ]
  },
  {
   "cell_type": "code",
   "execution_count": 18,
   "metadata": {
    "id": "0GBIQcV00QlW"
   },
   "outputs": [],
   "source": [
    "# Change global model structure before continuing"
   ]
  },
  {
   "cell_type": "code",
   "execution_count": 19,
   "metadata": {
    "id": "sfZSx5hQjCU_"
   },
   "outputs": [],
   "source": [
    "def build_new_model(old_model):\n",
    "    model = tf.keras.models.clone_model(old_model)\n",
    "    model.build(old_model.inputs[0].shape)\n",
    "    model.set_weights(old_model.get_weights())\n",
    "        \n",
    "    # Change layer index according to model\n",
    "    # Should point the the final pooling layer\n",
    "    model_pool = model.get_layer(index=427).output\n",
    "    new_model = tf.keras.models.Model(inputs = model.inputs, outputs = model.outputs + [model_pool])\n",
    "    return new_model"
   ]
  },
  {
   "cell_type": "code",
   "execution_count": 20,
   "metadata": {
    "id": "vC9eCQuTjjr5"
   },
   "outputs": [],
   "source": [
    "new_global = build_new_model(global_model)"
   ]
  },
  {
   "cell_type": "code",
   "execution_count": 21,
   "metadata": {
    "id": "YRKieXYQk62z"
   },
   "outputs": [],
   "source": [
    "new_local = build_new_model(local_model)"
   ]
  },
  {
   "cell_type": "code",
   "execution_count": 22,
   "metadata": {
    "colab": {
     "base_uri": "https://localhost:8080/"
    },
    "id": "K3w1Sv5mbFVE",
    "outputId": "42dd3360-93d8-4b2a-d0af-75a7afb778d1"
   },
   "outputs": [],
   "source": [
    "def build_merge_model():\n",
    "    '''\n",
    "    Building Merging Model for Custom Loop Implementation\n",
    "    '''\n",
    "    # Change input dimension according to pooling output of backbone\n",
    "    inp1 = tf.keras.Input((1024,))\n",
    "    inp2 = tf.keras.Input((1024,))\n",
    "    conc = tf.keras.layers.Concatenate()([inp1,inp2])\n",
    "    fc = tf.keras.layers.Dense(NUM_CLASSES,activation=\"softmax\")(conc)\n",
    "    merge_model = tf.keras.models.Model(inputs = [inp1,inp2],outputs = fc)\n",
    "    return merge_model\n",
    "merge_model = build_merge_model()"
   ]
  },
  {
   "cell_type": "code",
   "execution_count": 23,
   "metadata": {},
   "outputs": [],
   "source": [
    "new_local.load_weights(\"models_densenet_saliency/Local/model_15_1.18_0.51_1.22_0.72.h5\")\n",
    "merge_model.load_weights(\"models_densenet_saliency/Merge/model_15_1.18_0.51_1.22_0.72.h5\")"
   ]
  },
  {
   "cell_type": "code",
   "execution_count": null,
   "metadata": {
    "id": "ZkRLe6HXh_sP"
   },
   "outputs": [],
   "source": [
    "@tf.function\n",
    "def train_step(x,y,new_global, new_local):\n",
    "    batch_weights = [class_weights[tf.argmax(label).numpy()] for label in y]\n",
    "    with tf.GradientTape(persistent=True) as tape:\n",
    "        g_out, g_pool = new_global(x,training = False)\n",
    "        saliency_batch = generate_saliency_batch(x,global_model,THRESHOLD)\n",
    "        l_out, l_pool = new_local(saliency_batch,training= True)\n",
    "        local_loss = loss(y, l_out, sample_weight=batch_weights)\n",
    "        fout = merge_model([g_pool,l_pool],training=True)\n",
    "        merge_loss = loss(y, fout, sample_weight=batch_weights)       \n",
    "\n",
    "    train_acc_metric_local.update_state(y, l_out)\n",
    "    train_acc_metric_merge.update_state(y, fout)\n",
    "\n",
    "    local_grads = tape.gradient(local_loss, new_local.trainable_weights)\n",
    "    merge_grads = tape.gradient(merge_loss,merge_model.trainable_weights)\n",
    "\n",
    "    optimizer.apply_gradients(zip(local_grads,new_local.trainable_weights))\n",
    "    optimizer.apply_gradients(zip(merge_grads,merge_model.trainable_weights))\n",
    "\n",
    "    return local_loss, merge_loss"
   ]
  },
  {
   "cell_type": "code",
   "execution_count": null,
   "metadata": {
    "id": "AgHhDWgUiX7F"
   },
   "outputs": [],
   "source": [
    "@tf.function\n",
    "def val_step(x,y,new_global, new_local):\n",
    "    g_out,g_pool = new_global(x,training = False)\n",
    "    saliency_batch = generate_saliency_batch(x,global_model,THRESHOLD)\n",
    "    l_out,l_pool = new_local(saliency_batch,training= False)\n",
    "    fout = merge_model([g_pool,l_pool],training=False)\n",
    "    \n",
    "    val_acc_metric_local.update_state(y, l_out)\n",
    "    val_acc_metric_merge.update_state(y, fout)\n",
    "    \n",
    "    local_loss = loss(y, l_out)\n",
    "    merge_loss = loss(y, fout)\n",
    "    return local_loss, merge_loss"
   ]
  },
  {
   "cell_type": "code",
   "execution_count": null,
   "metadata": {},
   "outputs": [],
   "source": [
    "def validate(e):\n",
    "    for vs in range(STEPS_PER_EPOCH_VAL):\n",
    "        print(f\"\\rVal step:{vs+1}/{STEPS_PER_EPOCH_VAL}\",end=\"\")\n",
    "        x_val,y_val = val_generator.next()\n",
    "        v_loss_local, v_loss_merge = val_step(x_val,y_val,new_global, new_local)\n",
    "    print(f\"Validation for Epoch {e} Local Loss = {v_loss_local.numpy():.4f} Local Acc = {val_acc_metric_local.result().numpy():.4f} Merge Loss = {v_loss_merge:.4f} Merge Acc = {val_acc_metric_merge.result().numpy():.4f}\")\n",
    "    returnval = [v_loss_local.numpy(), val_acc_metric_local.result().numpy(), v_loss_merge.numpy(), val_acc_metric_merge.result().numpy()]\n",
    "    val_acc_metric_local.reset_states()\n",
    "    val_acc_metric_merge.reset_states()\n",
    "    return returnval"
   ]
  },
  {
   "cell_type": "code",
   "execution_count": null,
   "metadata": {},
   "outputs": [],
   "source": [
    "def train():\n",
    "    for s in range(STEPS_PER_EPOCH):\n",
    "        print(f\"\\rStep: {s+1}/{STEPS_PER_EPOCH}\",end=\"\")\n",
    "        x,y = training_generator.next()\n",
    "        t_loss_local, t_loss_merge = train_step(x,y,new_global, new_local)\n",
    "\n",
    "        if s%10 ==0:\n",
    "            print(f\" Epoch {e} Step {s} Local Loss = {t_loss_local} Local Acc = {train_acc_metric_local.result().numpy()} Merge Loss = {t_loss_merge} Merge Acc = {train_acc_metric_merge.result().numpy()}\")\n",
    "            train_acc_metric_local.reset_states()            \n",
    "            train_acc_metric_merge.reset_states()"
   ]
  },
  {
   "cell_type": "code",
   "execution_count": null,
   "metadata": {
    "id": "pjLoP319NSuT"
   },
   "outputs": [],
   "source": [
    "START_EPOCH = 0\n",
    "EPOCHS = 70\n",
    "THRESHOLD=0.6\n",
    "STEPS_PER_EPOCH = training_generator.samples//BATCH_SIZE\n",
    "STEPS_PER_EPOCH_VAL = val_generator.samples//BATCH_SIZE"
   ]
  },
  {
   "cell_type": "code",
   "execution_count": null,
   "metadata": {
    "colab": {
     "base_uri": "https://localhost:8080/"
    },
    "id": "YAv1zmIRZPCj",
    "outputId": "2e99c449-d7f5-4799-ea2d-d647f5065932",
    "scrolled": true
   },
   "outputs": [],
   "source": [
    "loss = tf.keras.losses.CategoricalCrossentropy()\n",
    "train_acc_metric_local = tf.keras.metrics.CategoricalAccuracy()\n",
    "train_acc_metric_merge = tf.keras.metrics.CategoricalAccuracy()\n",
    "val_acc_metric_local =tf.keras.metrics.CategoricalAccuracy()\n",
    "val_acc_metric_merge =tf.keras.metrics.CategoricalAccuracy()\n",
    "optimizer = tf.keras.optimizers.Adam(learning_rate=0.0001)"
   ]
  },
  {
   "cell_type": "code",
   "execution_count": null,
   "metadata": {},
   "outputs": [],
   "source": [
    "for e in range(START_EPOCH, EPOCHS):\n",
    "    print(f\"Epoch: {e}/{EPOCHS}\")\n",
    "\n",
    "    train()\n",
    "    result = validate(e)\n",
    "    result = [str(round(x, 2)) for x in result]\n",
    "    merge_model.save_weights(f\"models_densenet_saliency/Merge/model_{e}_{'_'.join(result)}.h5\")\n",
    "    new_local.save_weights(f\"models_densenet_saliency/Local/model_{e}_{'_'.join(result)}.h5\")"
   ]
  },
  {
   "cell_type": "markdown",
   "metadata": {},
   "source": [
    "# Metrics"
   ]
  },
  {
   "cell_type": "code",
   "execution_count": 24,
   "metadata": {},
   "outputs": [],
   "source": [
    "from sklearn.metrics import ConfusionMatrixDisplay\n",
    "from sklearn.metrics import confusion_matrix, accuracy_score\n",
    "from sklearn.metrics import roc_curve, roc_auc_score, precision_score, recall_score, f1_score, balanced_accuracy_score"
   ]
  },
  {
   "cell_type": "code",
   "execution_count": 25,
   "metadata": {},
   "outputs": [],
   "source": [
    "def get_metrics(prediction_function):\n",
    "    y_pred = []\n",
    "    y_pred_max = []\n",
    "    y_true = []\n",
    "\n",
    "    num_steps = val_generator.samples//BATCH_SIZE\n",
    "\n",
    "    for i in range(num_steps):\n",
    "        print(f\"\\r{i}/{num_steps}\", end=\"\")\n",
    "        x, y = val_generator.next()\n",
    "        y_pred_batch = prediction_function(x, y)\n",
    "        y_pred_batch/= tf.reshape(\n",
    "            tf.reduce_sum(y_pred_batch, axis=1), \n",
    "            (-1, 1)\n",
    "        )\n",
    "        y_pred += list(y_pred_batch.numpy())\n",
    "        y_pred_max += list(tf.argmax(y_pred_batch, axis=1).numpy())\n",
    "        y_true += list(tf.argmax(y, axis=1).numpy())\n",
    "    \n",
    "    print()\n",
    "    acc = accuracy_score(y_true, y_pred_max)\n",
    "    print(\"Accuracy: \", acc)\n",
    "    \n",
    "    precision = precision_score(y_true, y_pred_max, average='weighted')\n",
    "    print(\"Precision: \", precision)\n",
    "    \n",
    "    recall = recall_score(y_true, y_pred_max, average='weighted')\n",
    "    print(\"Recall: \", recall)\n",
    "    \n",
    "    f1 = f1_score(y_true, y_pred_max, average='weighted')\n",
    "    print(\"F1: \", f1)\n",
    "\n",
    "    auc = roc_auc_score(y_true, y_pred, average='weighted', multi_class='ovr')\n",
    "    print(\"AUC: \", auc)"
   ]
  },
  {
   "cell_type": "code",
   "execution_count": 26,
   "metadata": {},
   "outputs": [],
   "source": [
    "def pred_global(images, labels):\n",
    "    return global_model(images, training=False)"
   ]
  },
  {
   "cell_type": "code",
   "execution_count": 27,
   "metadata": {},
   "outputs": [],
   "source": [
    "def pred_local(images, labels):\n",
    "    g_out,g_pool = new_global(images,training = False)\n",
    "    saliency_batch = generate_saliency_batch(images,global_model,0.6)\n",
    "    l_out,l_pool = new_local(saliency_batch,training= False)\n",
    "    return l_out"
   ]
  },
  {
   "cell_type": "code",
   "execution_count": 28,
   "metadata": {},
   "outputs": [],
   "source": [
    "def pred_fusion(images, labels):\n",
    "    g_out,g_pool = new_global(images,training = False)\n",
    "    saliency_batch = generate_saliency_batch(images,global_model,0.6)\n",
    "    l_out,l_pool = new_local(saliency_batch,training= False)\n",
    "    y_pred = merge_model([g_pool,l_pool],training=False)\n",
    "    return y_pred"
   ]
  },
  {
   "cell_type": "code",
   "execution_count": 29,
   "metadata": {},
   "outputs": [
    {
     "name": "stdout",
     "output_type": "stream",
     "text": [
      "114/115\n",
      "Accuracy:  0.691304347826087\n",
      "Precision:  0.7254303736722737\n",
      "Recall:  0.691304347826087\n",
      "F1:  0.697231924592795\n",
      "AUC:  0.9023068043639859\n"
     ]
    }
   ],
   "source": [
    "get_metrics(pred_global)"
   ]
  },
  {
   "cell_type": "code",
   "execution_count": 30,
   "metadata": {},
   "outputs": [
    {
     "name": "stdout",
     "output_type": "stream",
     "text": [
      "114/115\n",
      "Accuracy:  0.5065217391304347\n",
      "Precision:  0.5796098076460422\n",
      "Recall:  0.5065217391304347\n",
      "F1:  0.5251076476639496\n",
      "AUC:  0.7986053299623638\n"
     ]
    }
   ],
   "source": [
    "get_metrics(pred_local)"
   ]
  },
  {
   "cell_type": "code",
   "execution_count": 31,
   "metadata": {
    "scrolled": false
   },
   "outputs": [
    {
     "name": "stdout",
     "output_type": "stream",
     "text": [
      "114/115\n",
      "Accuracy:  0.7239130434782609\n",
      "Precision:  0.7154859901568745\n",
      "Recall:  0.7239130434782609\n",
      "F1:  0.7149089516140106\n",
      "AUC:  0.9021783743996901\n"
     ]
    }
   ],
   "source": [
    "get_metrics(pred_fusion)"
   ]
  },
  {
   "cell_type": "code",
   "execution_count": null,
   "metadata": {},
   "outputs": [],
   "source": []
  }
 ],
 "metadata": {
  "accelerator": "GPU",
  "colab": {
   "collapsed_sections": [
    "w19lxbdUC8S-",
    "SkITsT5GCSaV",
    "qrTj219eMXaS",
    "451NLgkYHtRw",
    "wvtXDJVkO7Kk",
    "amms8Ls5p2T9",
    "kMx_VLppw7NX"
   ],
   "provenance": []
  },
  "gpuClass": "standard",
  "kernelspec": {
   "display_name": "Python 3 (ipykernel)",
   "language": "python",
   "name": "python3"
  },
  "language_info": {
   "codemirror_mode": {
    "name": "ipython",
    "version": 3
   },
   "file_extension": ".py",
   "mimetype": "text/x-python",
   "name": "python",
   "nbconvert_exporter": "python",
   "pygments_lexer": "ipython3",
   "version": "3.10.4"
  }
 },
 "nbformat": 4,
 "nbformat_minor": 1
}
